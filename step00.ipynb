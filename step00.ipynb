{
 "cells": [
  {
   "cell_type": "markdown",
   "metadata": {},
   "source": [
    "# I'm very happy to start Python Web Mastery Course."
   ]
  },
  {
   "cell_type": "code",
   "execution_count": 2,
   "metadata": {},
   "outputs": [
    {
     "name": "stdout",
     "output_type": "stream",
     "text": [
      "Hello World\n",
      "Pakistan Zindabad...\n"
     ]
    }
   ],
   "source": [
    "print(\"Hello World\")\n",
    "print(\"Pakistan Zindabad...\")"
   ]
  },
  {
   "cell_type": "markdown",
   "metadata": {},
   "source": [
    "\n",
    "# Variables:\n",
    "`Varibales are containers for storeing data values `\n",
    "\n",
    "# Assigning Values to Variables:\n",
    "# We can assign values to variables using the assignment operator (=)\n",
    "# The variable name is on the left side of the operator and the value is on the right side\n",
    "\n",
    "x = 10\n",
    "y = 20\n",
    "z = x + y\n",
    "print(z)\n",
    "\n",
    "# Basic Data Types:\n",
    "1. Integers (int): 10, 20, 30\n",
    "2. Floats (float): 10.5, 20.7, 30.9\n",
    "3. Strings (str): \"Hello\", \"World\", \"Python\"\n",
    "4. Booleans (bool): True, False\n"
   ]
  },
  {
   "cell_type": "code",
   "execution_count": 6,
   "metadata": {},
   "outputs": [
    {
     "name": "stdout",
     "output_type": "stream",
     "text": [
      "Name: Muhammad, Age: 20, Is Student: True\n",
      "Zain\n",
      "12\n",
      "True\n"
     ]
    }
   ],
   "source": [
    "name: str = \"Muhammad\";\n",
    "\n",
    "age: int = 20;\n",
    "\n",
    "isStudent: bool = True;\n",
    "# f string\n",
    "print(f\"Name: {name}, Age: {age}, Is Student: {isStudent}\")\n",
    "\n",
    "x, y, z, = \"Zain\", 12, True\n",
    "\n",
    "print(x)\n",
    "\n",
    "print(y)\n",
    "\n",
    "print(z)"
   ]
  },
  {
   "cell_type": "markdown",
   "metadata": {},
   "source": [
    "# `String Methods`"
   ]
  },
  {
   "cell_type": "code",
   "execution_count": 8,
   "metadata": {},
   "outputs": [
    {
     "name": "stdout",
     "output_type": "stream",
     "text": [
      "Muhammad tayyab\n",
      "muhammad tayyab\n",
      "Muhammad Tayyab\n",
      "4\n",
      "3\n",
      "Muhammad Khan\n",
      "Muhammad Tayyab\n",
      "['Muhammad', 'Tayyab']\n",
      "Muhammad Tayyab Khan\n",
      "False\n",
      "False\n",
      "False\n",
      "False\n",
      "False\n",
      "False\n",
      "False\n",
      "True\n",
      "False\n",
      "Name: Muhammad Tayyab, Age: 20, Is Student: True\n",
      "Name: Muhammad Tayyab, Age: 20, Is Student: True\n"
     ]
    }
   ],
   "source": [
    "name: str = 'Muhammad Tayyab';\n",
    "\n",
    "# capitalize() method converts the first character of a string to uppercase\n",
    "\n",
    "print(name.capitalize())\n",
    "\n",
    "# lower() method converts the entire string to lowercase\n",
    "\n",
    "print(name.lower())\n",
    "\n",
    "# title() method converts the first character of each word to uppercase\n",
    "\n",
    "print(name.title())\n",
    "\n",
    "# count() method returns the number of occurrences of a substring\n",
    "\n",
    "print(name.count('a'))\n",
    "\n",
    "# find() method returns the index of the first occurrence of a substring\n",
    "\n",
    "print(name.find('a'))\n",
    "\n",
    "# replace() method replaces a substring with another\n",
    "\n",
    "print(name.replace('Tayyab', 'Khan'))\n",
    "\n",
    "# strip() method removes leading and trailing whitespace from a string\n",
    "\n",
    "#print(name.strip())\n",
    "\n",
    "# split() method splits a string into a list of substrings based on a delimiter\n",
    "\n",
    "#print(name.split(' '))\n",
    "\n",
    "# join() method joins a list of strings into a single string, using a specified delimiter\n",
    "\n",
    "#print(' '.join(['Muhammad', 'Tayyab', 'Khan']))\n",
    "\n",
    "# isalpha() method returns True if all characters in the string are alphabetic\n",
    "\n",
    "#print(name.isalpha())\n",
    "\n",
    "# isdigit() method returns True if all characters in the string are digits\n",
    "\n",
    "#print(name.isdigit())\n",
    "\n",
    "# isalnum() method returns True if all characters in the string are alphanumeric\n",
    "\n",
    "#print(name.isalnum())\n",
    "\n",
    "# islower() method returns True if all characters in the string are lowercase\n",
    "\n",
    "#print(name.islower())\n",
    "\n",
    "# isupper() method returns True if all characters in the string are uppercase\n",
    "\n",
    "#print(name.isupper())\n",
    "\n",
    "# isspace() method returns True if all characters in the string are whitespace\n",
    "\n",
    "#print(name.isspace())\n",
    "\n",
    "# isidentifier() method returns True if the string is a valid identifier\n",
    "\n",
    "#print(name.isidentifier())\n",
    "\n",
    "# startswith() method returns True if the string starts with the specified substring\n",
    "\n",
    "#print(name.startswith('Muhammad'))\n",
    "\n",
    "# endswith() method returns True if the string ends with the specified substring\n",
    "\n",
    "#print(name.endswith('Khan'))\n",
    "\n",
    "# format() method formats a string using placeholders\n",
    "\n",
    "print(f\"Name: {name}, Age: {age}, Is Student: {isStudent}\")\n",
    "\n",
    "# format_map() method formats a string using a mapping object\n",
    "\n",
    "print(f\"Name: {name}, Age: {age}, Is Student: {isStudent}\".format_map({'name': 'Muhammad', 'age': 20, 'isStudent': True}))"
   ]
  },
  {
   "cell_type": "code",
   "execution_count": null,
   "metadata": {},
   "outputs": [],
   "source": [
    "name = input('Enter your name: ')\n",
    "age = input('Enter your age: ')\n",
    "edu = input('Enter your Education: ')\n",
    "greet = input('Greet Message:')\n",
    "print(\"Hello\" + name + \"!You are\" +age+ \"year old.\")\n",
    "print(\"Edu: \" + edu)\n",
    "print(\"Message: \" + greet)"
   ]
  },
  {
   "cell_type": "code",
   "execution_count": null,
   "metadata": {},
   "outputs": [],
   "source": []
  }
 ],
 "metadata": {
  "kernelspec": {
   "display_name": "Python 3",
   "language": "python",
   "name": "python3"
  },
  "language_info": {
   "codemirror_mode": {
    "name": "ipython",
    "version": 3
   },
   "file_extension": ".py",
   "mimetype": "text/x-python",
   "name": "python",
   "nbconvert_exporter": "python",
   "pygments_lexer": "ipython3",
   "version": "3.13.0"
  }
 },
 "nbformat": 4,
 "nbformat_minor": 2
}
